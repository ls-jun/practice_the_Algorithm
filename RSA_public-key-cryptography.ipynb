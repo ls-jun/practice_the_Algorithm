{
  "nbformat": 4,
  "nbformat_minor": 0,
  "metadata": {
    "colab": {
      "name": "rsa실습.ipynb",
      "provenance": [],
      "collapsed_sections": [],
      "authorship_tag": "ABX9TyOIvOSxfxkI8OgoH1D10W8l"
    },
    "kernelspec": {
      "name": "python3",
      "display_name": "Python 3"
    },
    "language_info": {
      "name": "python"
    }
  },
  "cells": [
    {
      "cell_type": "markdown",
      "metadata": {
        "id": "MPXe9Jnq5Ywe"
      },
      "source": [
        "# 코드를 통한 RSA 실습"
      ]
    },
    {
      "cell_type": "code",
      "metadata": {
        "id": "Nq0KXwM75XH5",
        "colab": {
          "base_uri": "https://localhost:8080/"
        },
        "outputId": "b72d87a0-de48-45f8-cd00-daa8dd16ccfa"
      },
      "source": [
        "import random\n",
        "import math\n",
        "import numpy as np\n",
        "\n",
        "def lcm(x,y):\n",
        "  result = (x*y)//math.gcd(x,y)\n",
        "  return result\n",
        "p = int(input(\"소수 p= \"))\n",
        "q = int(input(\"소수 q= \"))\n",
        "K = int(input(\"전송할 비밀키 K = \"))\n",
        "##테스트를 위한 설정값 p, q, K = 17, 19, 123\n",
        "##테스트를 위한 설정값 E=5\n",
        "N = p*q\n",
        "L = lcm(p-1,q-1)\n",
        "E_sub = []\n",
        "for i in range(2,L): \n",
        "    if math.gcd(i,L) == 1 : E_sub.append(i)\n",
        "E = E_sub[random.randint(0,len(E_sub)-1)]\n",
        "\n",
        "for i in range(2,L-1):\n",
        "  if i*E%L == 1 : D = i\n",
        "    \n",
        "\n",
        "print(\"p,q : \",p, q)\n",
        "print(\"공개키 N, E : \",N, E)\n",
        "print(\"개인키 N, D : \",N, D)\n",
        "print(\"비밀키 K = \",K)\n",
        "C = (K**E)%N\n",
        "print(\"암호문 C = \", C)\n",
        "P = (C**D)%N\n",
        "print(\"복호화된 해독문 = \",P)"
      ],
      "execution_count": null,
      "outputs": [
        {
          "output_type": "stream",
          "name": "stdout",
          "text": [
            "소수 p= 919\n",
            "소수 q= 929\n",
            "전송할 비밀키 K = 48212\n",
            "p,q :  919 929\n",
            "공개키 N, E :  853751 305161\n",
            "개인키 N, D :  853751 285529\n",
            "비밀키 K =  48212\n",
            "암호문 C =  171616\n",
            "복호화된 해독문 =  48212\n"
          ]
        }
      ]
    },
    {
      "cell_type": "code",
      "metadata": {
        "id": "YiR0oVW68Q7B"
      },
      "source": [
        "1"
      ],
      "execution_count": null,
      "outputs": []
    }
  ]
}